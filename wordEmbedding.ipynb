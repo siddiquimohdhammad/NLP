{
 "cells": [
  {
   "cell_type": "code",
   "execution_count": 1,
   "metadata": {},
   "outputs": [],
   "source": [
    "import spacy"
   ]
  },
  {
   "cell_type": "code",
   "execution_count": 2,
   "metadata": {},
   "outputs": [
    {
     "name": "stdout",
     "output_type": "stream",
     "text": [
      "Cat Vectors:  True OOV:  False\n",
      "and Vectors:  True OOV:  False\n",
      "dog Vectors:  True OOV:  False\n",
      "is Vectors:  True OOV:  False\n",
      "animal Vectors:  True OOV:  False\n",
      "hammadp Vectors:  False OOV:  True\n"
     ]
    }
   ],
   "source": [
    "nlp=spacy.load(\"en_core_web_lg\")\n",
    "doc=nlp(\"Cat and dog is animal hammadp\")\n",
    "\n",
    "for i in doc:\n",
    "    print(i.text, \"Vectors: \", i.has_vector, \"OOV: \", i.is_oov)"
   ]
  },
  {
   "cell_type": "code",
   "execution_count": 3,
   "metadata": {},
   "outputs": [
    {
     "data": {
      "text/plain": [
       "(300,)"
      ]
     },
     "execution_count": 3,
     "metadata": {},
     "output_type": "execute_result"
    }
   ],
   "source": [
    "doc.vector.shape"
   ]
  },
  {
   "cell_type": "code",
   "execution_count": 4,
   "metadata": {},
   "outputs": [],
   "source": [
    "base_word=nlp(\"Police\")"
   ]
  },
  {
   "cell_type": "code",
   "execution_count": 5,
   "metadata": {},
   "outputs": [
    {
     "name": "stdout",
     "output_type": "stream",
     "text": [
      "IAS <--> Police --> 0.2602061175516513\n",
      "and <--> Police --> 0.05655814320007768\n",
      "IPS <--> Police --> 0.3544537647497225\n",
      "are <--> Police --> -0.005531473361572433\n",
      "good <--> Police --> -0.1511195232856544\n",
      "post <--> Police --> 0.038997453631095066\n",
      "criminal <--> Police --> 0.33619143562107195\n",
      "Police <--> Police --> 1.000000012976876\n",
      "police <--> Police --> 0.7345914230577794\n"
     ]
    }
   ],
   "source": [
    "compare_word=nlp(\"IAS and IPS are good post criminal Police police\")\n",
    "\n",
    "for i in compare_word:\n",
    "    print(i, \"<-->\", base_word, \"-->\", i.similarity(base_word))"
   ]
  },
  {
   "cell_type": "code",
   "execution_count": 6,
   "metadata": {},
   "outputs": [
    {
     "name": "stdout",
     "output_type": "stream",
     "text": [
      "men, <--> men--> 1.0000000582481914\n",
      "women, <--> men--> 0.7757169314000367\n",
      "bull, <--> men--> 0.2417266119280004\n",
      "king, <--> men--> 0.37199636434418715\n",
      "Women, <--> men--> 0.3551278222852872\n"
     ]
    }
   ],
   "source": [
    "def similarity(base_word,word_to_compare):\n",
    "    base_token=nlp(base_word)\n",
    "    doc=nlp(word_to_compare)\n",
    "\n",
    "    for i in doc:\n",
    "        print(f\"{i}, <--> {base_token}--> {i.similarity(base_token)}\")\n",
    "\n",
    "\n",
    "similarity(\"men\",\"men women bull king Women\")\n"
   ]
  },
  {
   "cell_type": "code",
   "execution_count": null,
   "metadata": {},
   "outputs": [],
   "source": []
  }
 ],
 "metadata": {
  "kernelspec": {
   "display_name": "Python 3",
   "language": "python",
   "name": "python3"
  },
  "language_info": {
   "codemirror_mode": {
    "name": "ipython",
    "version": 3
   },
   "file_extension": ".py",
   "mimetype": "text/x-python",
   "name": "python",
   "nbconvert_exporter": "python",
   "pygments_lexer": "ipython3",
   "version": "3.10.2"
  },
  "orig_nbformat": 4
 },
 "nbformat": 4,
 "nbformat_minor": 2
}
